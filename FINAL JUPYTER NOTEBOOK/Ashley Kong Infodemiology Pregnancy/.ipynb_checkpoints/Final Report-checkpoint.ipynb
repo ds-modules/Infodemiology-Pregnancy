{
 "cells": [
  {
   "cell_type": "code",
   "execution_count": 12,
   "metadata": {},
   "outputs": [],
   "source": [
    "#import libraries\n",
    "import pandas as pd\n",
    "import numpy as np\n",
    "from matplotlib import pyplot as plt\n",
    "from IPython.display import IFrame, display"
   ]
  },
  {
   "cell_type": "markdown",
   "metadata": {},
   "source": [
    "# Infodemiology: Pregnancy within the U.S\n",
    "by: Ashley Kong"
   ]
  },
  {
   "cell_type": "markdown",
   "metadata": {},
   "source": [
    "<img src=\"pregnancy title image.png\" width=\"30%\">"
   ]
  },
  {
   "cell_type": "markdown",
   "metadata": {},
   "source": [
    "## Table of Contents\n",
    "\n",
    "1. [Abstract](#section-1)<br>\n",
    "2. [Background](#section-2)<br>\n",
    "3. [Research Question and Hypothesis](#section-3)<br>\n",
    "4. [Methodology](#section-4)<br>\n",
    "5. [Results](#section-6)<br>\n",
    "6. [Data](#section-5)<br>\n",
    "7. [Appendix](#section-7)<br>\n",
    "8. [Notes](#section-8)<br>\n",
    "9. [Next Steps](#section-9)<br>"
   ]
  },
  {
   "cell_type": "markdown",
   "metadata": {},
   "source": [
    "### Abstract <a id='section-1'>"
   ]
  },
  {
   "cell_type": "markdown",
   "metadata": {},
   "source": [
    "My goal was to utilize the Google Trends API, Health Trends API, and Google Trends website to identify the existing concerns regarding self-induced abortion sentiment across the US. \n",
    "\n",
    "The search terms that were utilized in this report were: \n",
    "- self-induced abortion\n",
    "- self-care abortion\n",
    "- over the counter pill\n",
    "- home abortion\n",
    "- buy abortion pill online\n",
    "- plan c pill"
   ]
  },
  {
   "cell_type": "markdown",
   "metadata": {},
   "source": [
    "### Background  <a id='section-2'>"
   ]
  },
  {
   "cell_type": "markdown",
   "metadata": {},
   "source": [
    "Over the course of the past decade access to abortion has been increasingly undermined. Between 2011 and 2015 states across the US have passed almost 300 laws that aim to restriction abortion (Nash et al, Guttmacher Institute, 2016). And as a result, more people are looking to forego the health care system for self abortions. \n",
    "\n",
    "During the beginning of covid, abortion clinics temporarily designated their resources solely to the covid effort; subsequently, abortion clinics found themselves without funds to continue functioning. People have decreasingly donated money to abortion clinics and some providers have discontinued their support with said clinics, and because abortion clinics are having a hard time making ends meet, there are fewer people that can actually afford to get an abortion.\n",
    "\n",
    "According to [Times](https://time.com/5916746/abortion-clinics-covid-19/?utm_medium=email&utm_source=sfmc&utm_campaign=newsletter+brief-pm+default+ac&utm_content=+++20201202+++body&et_rid=30718147\n",
    "), conservative states like Alabama there are a number of legal measures put in place that have made it difficult for abortion clinics like the Alabama Women’s Center for Reproductive Alternatives to continue their services. And with covid conditions new challenges have arisen, when the economy took a hit after the start of the pandemic, many existing appointments had to be cancelled. In addition, with Alabama’s stringent approach to abortion, the mere process of establishing a legal abortion has become both costly and timely especially for independent abortion clinics. From 2012 to 2020 there has been a 34% decrease in independent abortion clinics, a concerning statistic as 58% of people seeking abortions look towards independent clinics for resources. Large national abortion providers like Planned Parenthood have more leeway than independent clinics because they have more resources and because Planned Parenthood is a nonprofit organization, it is also privy to grants that are unavailable to independent clinics. Most states are stringent about Medicaid funding for abortion and some prohibit private insurance from covering abortion, paired with layoffs during the pandemic, decreases the number of people who can afford an abortion even further. Furthermore, abortion clinics have been forced to close, in Alabama there are 4 remaining abortion clinics.\n",
    "\n",
    "\n",
    "The idea of self-managed abortion is often stigmatized as unsafe but also associated with the time before Roe vs. Wade, when abortion was not yet legal. Because legal abortions are typically attributed to a medical service provided by abortion clinics or hospitals, the notion of conducting an abortion without medical professionals rises concerns for many. According to [Guttmacher Institute's Policy Review](https://www.guttmacher.org/gpr/2018/10/self-managed-medication-abortion-expanding-available-options-us-abortion-care), there are legitimate reasons that advocate for self-managed abortion: lack of abortion clinics and that there are safe methods for self-managed abortion. Most notably, abortion by medication is viable safe option for self-managed abortion since medication abortion has been approved by the FDA in 2000. Medication abortion follows 95% effectiveness and side effects are similar to those of miscarriage, and by 2016, the FDA confirmed that serious complications from medication abortion were very rare events. Self-managed abortion often has a negative connotation due to an incomplete understanding of the abortion process. In 2018 there were 7 states that criminalized self-induced abortions, 10 states that had laws criminalizing harm to fetuses, and 15 states with abortion laws that could be misconstrued against people who choose self-induced abortion. Another deterrent from people getting abortions in the US is affordability; in 2014, the average amount paid for early medication abortion was $535. Furthermore a lack of insurance can spike the cost of an abortion, which is a prevalent situation for many people in the US.\n"
   ]
  },
  {
   "cell_type": "markdown",
   "metadata": {},
   "source": [
    "### Research Question and Hypothesis <a id='section-3'>"
   ]
  },
  {
   "cell_type": "markdown",
   "metadata": {},
   "source": [
    "To what degree are people in the US searching Google for self-induced abortion during 2020?\n",
    "\n",
    "\n",
    "1. What are the top concerns associated with self-induced abortion?\n",
    "    - I wanted to explore to what extent people search for information on self-induced abortion or related resources. \n",
    "2. What are the top queries for self-induced abortion that are most frequently searched for?\n",
    "    - Continuing with our interest in US concerns on self-induced abortion, I wanted to look at how the top concerns associated with self-induced abortion were associated with self-induced abortion.\n",
    "3. Which states in the US best reflect self-induced abortion concerns and how does the interest change over time?\n",
    "    - After looking at several terms our next question was which US states demonstrate the most prevalent  concerns on self abortion."
   ]
  },
  {
   "cell_type": "markdown",
   "metadata": {},
   "source": [
    "### Methodology <a id='section-4'>"
   ]
  },
  {
   "cell_type": "markdown",
   "metadata": {},
   "source": [
    "Relative Search Volume: The normalized proportion of searches for a specific query as compared to the sum total of searches for a set of queries. In our searches this value for a given follow-up query is the proportionate search volume relative to the other follow-up queries. \n",
    "- From the Health Trends API: the proportion of searches for a specific query as compared to the sum total of searches for a set of queries\n",
    "\n",
    "Relative Search Index: search interest relative to all searches during the specified period of time\n",
    "- From Google Trends API: shows search interest of follow-up query relative to all follow-up query searches for a given search term\n",
    "\n",
    "\n",
    "\n",
    "\n"
   ]
  },
  {
   "cell_type": "markdown",
   "metadata": {},
   "source": [
    "We chose to have the specifications: [Location: US, Time Period: 11/01/2019-11/01/2020] when looking for top queries using the Google Trends and Health Trends API, and used the same Time Period specification when looking at the Google Trends site."
   ]
  },
  {
   "cell_type": "markdown",
   "metadata": {},
   "source": [
    "1. From the relevant articles, the first cohort of search terms we chose to look at were \"self-care abortion\" and \"self-induced abortion\" as these were common terms used to reference self-managed abortion in medical journals and articles. \n",
    "    - I found that when trying to search for the top queries for \"self-care abortion\" and \"self-induced abortion\" Google did not publically reveal any information via the Google Trends site as well as the 2 API's mentioned above.\n",
    "    \n",
    "    - NOTE: Google did not reveal any information on \"self-induced abortion\" or \"self-care abortion\", so they will be omitted from the results, evidence of lack of output from the Google Trends site for these terms will be listed in the Appendix.\n",
    "   \n",
    "   \n",
    "2. Through further investigation I came to the conclusion that our initial search terms needed to utilize more colloquial language in order to get information from both the API's and the Google Trends site. I found that if our search terms were too specific than Google would potentially not have enough information on that search term. Another thing we wanted to keep in mind was we wanted to use terms that specifically users or the average person would be likely to use to search for self-induced abortion related services, so we decided on \"over the counter pill\", \"buy abortion pill online\", \"home abortion\", and \"plan c pill\" as better indicators of what people search for.\n",
    "    - For the above 4 terms I used the Google Trends site to look at the interest in the term over the course of our designated Time Period and to see which top and bottom 10 US states had the most/least interest in the term. I checked the existence of relative search indexes for each term using the Google Trends API and utilized the relative search volume fom the Health Trends API for each term to create a tree graph (using Graphviz) to portray the term search path used.\n",
    "    \n",
    "    - NOTE: Google did not reveal any information on \"plan c pill\", so \"plan c pill\" will be omitted from the results, evidence of lack of output from the Google Trends site for \"plan c pill\" will be listed in the Appendix."
   ]
  },
  {
   "cell_type": "markdown",
   "metadata": {},
   "source": [
    "### Results <a id='section-6'>"
   ]
  },
  {
   "cell_type": "markdown",
   "metadata": {},
   "source": [
    "##### <font color=\"blue\">Self-care abortion</font>"
   ]
  },
  {
   "cell_type": "markdown",
   "metadata": {},
   "source": [
    "When we looked for the top queries for \"self-care abortion\" [with the specifications of Location: US, Time Period: 11/01/2019-11/01/2020] using the Google Trends and Google Health Trends API, we were unable to retreive further information. Upon cross-checking the term with the same specifications with the Google Trends site<sup>3 </sup>, we saw that there was also no information that Google had publically released."
   ]
  },
  {
   "cell_type": "markdown",
   "metadata": {},
   "source": [
    "##### <font color=\"blue\">Self-induced abortion</font>"
   ]
  },
  {
   "cell_type": "markdown",
   "metadata": {},
   "source": [
    "When we looked for the top queries for \"self-induced abortion\" [with the specifications of Location: US, Time Period: 11/01/2019-11/01/2020] using the Google Trends and Google Health Trends API, we were unable to retreive further information. Upon cross-checking the term with the same specifications with the Google Trends site<sup>4 </sup>, we saw that there was also no information that Google had publically released.\n",
    "\n"
   ]
  },
  {
   "cell_type": "markdown",
   "metadata": {},
   "source": [
    "##### <font color=\"blue\">Over the counter pill</font>"
   ]
  },
  {
   "cell_type": "markdown",
   "metadata": {},
   "source": [
    "\n",
    "<img src=\"over_the_counter_pill_rsi.gv-1.png\n",
    "\" width=\"1000\" height= \"1000\">"
   ]
  },
  {
   "cell_type": "code",
   "execution_count": 4,
   "metadata": {
    "scrolled": false
   },
   "outputs": [
    {
     "data": {
      "text/html": [
       "\n",
       "        <iframe\n",
       "            width=\"800\"\n",
       "            height=\"300\"\n",
       "            src=\"over_the_counter_pill_rsi.gv.pdf\"\n",
       "            frameborder=\"0\"\n",
       "            allowfullscreen\n",
       "        ></iframe>\n",
       "        "
      ],
      "text/plain": [
       "<IPython.lib.display.IFrame at 0x7f5f74745550>"
      ]
     },
     "execution_count": 4,
     "metadata": {},
     "output_type": "execute_result"
    }
   ],
   "source": [
    "filepath = \"over_the_counter_pill_rsi.gv.pdf\"\n",
    "IFrame(filepath, width=800, height=300)"
   ]
  },
  {
   "cell_type": "markdown",
   "metadata": {},
   "source": [
    "The followed search terms are highlighted in red, the terms highlighted in blue indicate that that term was checked for and had no related queries. The colored path thus demonstrates the search that could be closely related to self-induced abortion.\n",
    "\n",
    "When people search for \"over the counter pill\" we get results like how much the pill costs, where to get it, and whether they can get the abortion pill online, meaning that  they are looking for a way to get it themselves."
   ]
  },
  {
   "cell_type": "markdown",
   "metadata": {},
   "source": [
    "\n",
    "<img src=\"ocp_relatedqueries.png\n",
    "\" width=\"100%\">\n",
    "\n",
    "\"Yeast infection pill\" was the top related query for \"over the counter pill\" from the Google Trends site."
   ]
  },
  {
   "cell_type": "code",
   "execution_count": 30,
   "metadata": {},
   "outputs": [
    {
     "data": {
      "image/png": "[encoded data removed]",
      "text/plain": [
       "<Figure size 1080x360 with 1 Axes>"
      ]
     },
     "metadata": {
      "needs_background": "light"
     },
     "output_type": "display_data"
    }
   ],
   "source": [
    "ocp.plot(\"Queries\", \"Relative Search Volume\", kind='bar',figsize=(15,5), legend = None)\n",
    "plt.title(\"Relative Search Volume for Top Queries of 'Over the counter pill'\")\n",
    "plt.xlabel(\"Query\")\n",
    "plt.ylabel(\"Relative Search Volume\");"
   ]
  },
  {
   "cell_type": "markdown",
   "metadata": {},
   "source": [
    "When we look at the relative search volumes for \"over the counter pill\" from the Health Trends API we see that we also get the \"yeast infection pill\" query that appeared in the Google Trends site. Out of all the top queries that are pills, we note that that \"abortion pill\", the 4th most search term out of all the top queries for \"over the counter pill\", is searched for more frequently than diet pills or yeast sleeping pills."
   ]
  },
  {
   "cell_type": "markdown",
   "metadata": {},
   "source": [
    "Our goal for looking at each term's interest over time in the US was to see how searches trended during the peak of the covid pandemic and to see whether or not the same peaks or trends that occured in December 2019 might also trend in a similar way for December 2020."
   ]
  },
  {
   "cell_type": "markdown",
   "metadata": {},
   "source": [
    "<img src=\"ocp_googletrend.png\n",
    "\" width=\"100%\">\n",
    "\n",
    "The Google Trends site reported that over the course of this past year the highest interest score (100) in \"over the counter pill\" was during end of December 2019 and beginning of January 2020. The secondmost highest (77) occured during February 16-22, 2020 and May 24-30, 2020, and the thirdmost highest (74), occured during July 19-25, 2020 and August 2-8, 2020.\n",
    "\n",
    "\n",
    "\n",
    "<img src=\"ocp_subregion1.png\n",
    "\" width=\"100%\">\n",
    "\n",
    "<img src=\"ocp_subregion2.png\n",
    "\" width=\"100%\">\n",
    "<img src=\"ocp_subregion3.png\n",
    "\" width=\"100%\">\n",
    "<img src=\"ocp_subregion4.png\n",
    "\" width=\"100%\">\n",
    "<img src=\"ocp_subregion5.png\n",
    "\" width=\"100%\">\n",
    "From the Google Trends site, the top 10 subregions with the highest interest in \"over the counter pill\" were: \n",
    "- Louisiana\n",
    "- Alabama\n",
    "- Tennessee\n",
    "- Kentucky\n",
    "- Pennsylvania\n",
    "- Virginia\n",
    "- Georgia\n",
    "- Missouri\n",
    "- North Carolina\n",
    "- Florida\n",
    "\n",
    "\n",
    "The bottom subregions with the lowest interest in \"over the counter pill\" were: \n",
    "- Connecticut\n",
    "- Indiana\n",
    "- California\n",
    "- New Jersey\n",
    "- Minnesota\n",
    "- Washington\n",
    "- Arizona\n",
    "- Massachusetts\n",
    "- South Carolina\n",
    "- Wisconsin\n",
    "\n",
    "We can see that 9 of the top 10 subregions are southern states, indicating that the search term \"over the counter pill\" was more popular with the southern states, whereas the bottom 10 subregions had drastically more regional diversity.\n",
    "\n",
    "For the 2 API's there were no related query information for \"over the counter pill\" for any of the above listed states.\n",
    "\n"
   ]
  },
  {
   "cell_type": "markdown",
   "metadata": {},
   "source": [
    "##### <font color=\"blue\">Buy abortion pill online</font>"
   ]
  },
  {
   "cell_type": "code",
   "execution_count": 5,
   "metadata": {},
   "outputs": [
    {
     "data": {
      "text/html": [
       "\n",
       "        <iframe\n",
       "            width=\"800\"\n",
       "            height=\"300\"\n",
       "            src=\"buy_abortion_pill_online_rsi.gv.pdf\"\n",
       "            frameborder=\"0\"\n",
       "            allowfullscreen\n",
       "        ></iframe>\n",
       "        "
      ],
      "text/plain": [
       "<IPython.lib.display.IFrame at 0x7f5f747ad9a0>"
      ]
     },
     "execution_count": 5,
     "metadata": {},
     "output_type": "execute_result"
    }
   ],
   "source": [
    "filepath = \"buy_abortion_pill_online_rsi.gv.pdf\"\n",
    "IFrame(filepath, width=800, height=300)"
   ]
  },
  {
   "cell_type": "markdown",
   "metadata": {},
   "source": [
    "\n",
    "We chose \"buy abortion pill online\" and note that one of the follow-up terms for \"over the counter pill\" was \"abortion pill online\" that shared one of the follow-up terms to \"buy abortion pill online\": \"buy abortion kit online\". "
   ]
  },
  {
   "cell_type": "code",
   "execution_count": 34,
   "metadata": {},
   "outputs": [
    {
     "data": {
      "image/png": "[encoded data removed]",
      "text/plain": [
       "<Figure size 1080x360 with 1 Axes>"
      ]
     },
     "metadata": {
      "needs_background": "light"
     },
     "output_type": "display_data"
    }
   ],
   "source": [
    "bapo.plot(\"Queries\", \"Relative Search Volume\", kind='bar',figsize=(15,5), legend = None)\n",
    "plt.title(\"Relative Search Volume for Top Queries of 'Buy abortion pill online'\")\n",
    "plt.xlabel(\"Query\")\n",
    "plt.ylabel(\"Relative Search Volume\");"
   ]
  },
  {
   "cell_type": "markdown",
   "metadata": {},
   "source": [
    "We see that when people search for \"buy abortion pill online\", they are looking for a means to obtain the abortion pill or kit in an efficient manner and are searching for the abortion resource online."
   ]
  },
  {
   "cell_type": "markdown",
   "metadata": {},
   "source": [
    "<img src=\"buyabortionpillonline_gt.png\n",
    "\" width=\"100%\">\n",
    "\n",
    "The Google Trends site reported that over the course of this past year the highest interest score (100) in \"buy abortion pill online\" was during end of December 2019. The secondmost highest (93) occured during December 29, 2019 - Januray 1, 2020, and the thirdmost highest (84), occured during February 9-15, 2020.\n",
    "\n",
    "Interest in the search term \"buy abortion pill online\" was highest in December 2019 with constant fluctuating interest.\n",
    "\n",
    "<img src=\"bapo_subregion.png\n",
    "\" width=\"100%\">\n",
    "\n",
    "The Google Trends site did not reveal any information regarding interest over time for \"buy abortion pill online\"."
   ]
  },
  {
   "cell_type": "markdown",
   "metadata": {},
   "source": [
    "##### <font color=\"blue\">Home abortion</font>"
   ]
  },
  {
   "cell_type": "code",
   "execution_count": 6,
   "metadata": {},
   "outputs": [
    {
     "data": {
      "text/html": [
       "\n",
       "        <iframe\n",
       "            width=\"800\"\n",
       "            height=\"300\"\n",
       "            src=\"home_abortion_rsi.gv.pdf\"\n",
       "            frameborder=\"0\"\n",
       "            allowfullscreen\n",
       "        ></iframe>\n",
       "        "
      ],
      "text/plain": [
       "<IPython.lib.display.IFrame at 0x7f5f747a73a0>"
      ]
     },
     "execution_count": 6,
     "metadata": {},
     "output_type": "execute_result"
    }
   ],
   "source": [
    "filepath = \"home_abortion_rsi.gv.pdf\"\n",
    "IFrame(filepath, width=800, height=300)"
   ]
  },
  {
   "cell_type": "markdown",
   "metadata": {},
   "source": [
    "\n",
    "<img src=\"ha_relatedqueries.png\n",
    "\" width=\"100%\">"
   ]
  },
  {
   "cell_type": "markdown",
   "metadata": {},
   "source": [
    "There was no information on related queries for \"home abortion\" from the Google Trends site."
   ]
  },
  {
   "cell_type": "code",
   "execution_count": 37,
   "metadata": {},
   "outputs": [
    {
     "data": {
      "image/png": "[encoded data removed]",
      "text/plain": [
       "<Figure size 1080x360 with 1 Axes>"
      ]
     },
     "metadata": {
      "needs_background": "light"
     },
     "output_type": "display_data"
    }
   ],
   "source": [
    "ha.plot(\"Queries\", \"Relative Search Volume\", kind='bar',figsize=(15,5), legend = None)\n",
    "plt.title(\"Relative Search Volume for Top Queries of 'Home abortion'\")\n",
    "plt.xlabel(\"Query\")\n",
    "plt.ylabel(\"Relative Search Volume\");"
   ]
  },
  {
   "cell_type": "markdown",
   "metadata": {},
   "source": [
    "6 of the top queries for \"home abortion\" contain the expression of concerns for abortion be it abortion resources or abortions at home, which indicates that the search for \"home abortion\" holds components that encapsulate self-induced abortion. We see from the top queries for \"home abortion\" that there are terms related to home remedies but it is not clear whether or not all home abortions are self-induced, as indicated by the searches for clinics, potentially stating that people who search for \"home abortion\" are looking into the resources for abortion itself."
   ]
  },
  {
   "cell_type": "markdown",
   "metadata": {},
   "source": [
    "<img src=\"homeabortion_googletrends.png\n",
    "\" width=\"100%\">\n",
    "\n",
    "The Google Trends site reported that over the course of this past year the highest interest score (100) in \"home abortion\" was during the beginning of November 2019. The secondmost highest (82) occured during December 8-14, 2019, and the thirdmost highest (78), occured during June 28-July 4, 2020.\n",
    "\n",
    "\n",
    "<img src=\"ha_subregion1.png\n",
    "\" width=\"100%\">\n",
    "\n",
    "<img src=\"ha_subregion2.png\n",
    "\" width=\"100%\">\n",
    "\n",
    "<img src=\"ha_subregion3.png\n",
    "\" width=\"100%\">\n",
    "\n",
    "<img src=\"ha_subregion4.png\n",
    "\" width=\"100%\">\n",
    "<img src=\"ha_subregion5.png\n",
    "\" width=\"100%\">\n",
    "\n",
    "From the Google Trends site, the top 10 subregions with the highest interest in \"home abortion\" were: \n",
    "- Mississippi\n",
    "- Kansas\n",
    "- South Carolina\n",
    "- Arkansas\n",
    "- Arizona\n",
    "- Louisiana\n",
    "- Tennessee\n",
    "- Maryland\n",
    "- Alabama\n",
    "- Minnesota\n",
    "\n",
    "The bottom subregions with the lowest interest in \"home abortion\" were: \n",
    "- North Carolina\n",
    "- Wisconsin\n",
    "- Missouri\n",
    "- Ohio\n",
    "- Colorado\n",
    "- California\n",
    "- Washington\n",
    "- Massachusetts\n",
    "- New York\n",
    "- New Jersey\n",
    "\n",
    "There appears to be a cyclical pattern in the interest for the search term \"home abortion\". Compared to last year, the interest has not reached the same peak as in November 2019, a potential insight that we may want to keep track of is whether or not the interest follows an upward trend towards the end of the year as a possible attributing factor may be covid.\n",
    "\n",
    "Like \"over the counter pill\", the top 10 subregions interested in \"home abortion\" are predominantly, 8 out of 10, southern states.\n",
    "\n",
    "For the 2 API's there were no related query information for \"home abortion\" for any of the above listed states."
   ]
  },
  {
   "cell_type": "markdown",
   "metadata": {},
   "source": [
    "##### <font color=\"blue\">Plan c pill</font>"
   ]
  },
  {
   "cell_type": "markdown",
   "metadata": {},
   "source": [
    "When we looked for the top queries for \"plan c pill\" [with the specifications of Location: US, Time Period: 11/01/2019-11/01/2020] using the Google Trends and Google Health Trends API, we were unable to retreive further information. Upon cross-checking the term with the same specifications with the Google Trends site<sup>5 </sup>, we saw that there was also no information that Google had publically released."
   ]
  },
  {
   "cell_type": "markdown",
   "metadata": {},
   "source": [
    "### Data <a id='section-5'>"
   ]
  },
  {
   "cell_type": "markdown",
   "metadata": {},
   "source": [
    "Data for this study were drawn from 2 customized Google API’s (Google Trends and Google Health Trends API) for the period November 1, 2019 to November 1, 2020. Going forward, we plan to use the Custom Search API to see what websites people typically use to find more information on self-abortion and abortion resources. "
   ]
  },
  {
   "cell_type": "markdown",
   "metadata": {},
   "source": [
    "##### <font color=\"blue\">Over the counter pill</font>"
   ]
  },
  {
   "cell_type": "code",
   "execution_count": 8,
   "metadata": {},
   "outputs": [
    {
     "data": {
      "text/html": [
       "<div>\n",
       "<style scoped>\n",
       "    .dataframe tbody tr th:only-of-type {\n",
       "        vertical-align: middle;\n",
       "    }\n",
       "\n",
       "    .dataframe tbody tr th {\n",
       "        vertical-align: top;\n",
       "    }\n",
       "\n",
       "    .dataframe thead th {\n",
       "        text-align: right;\n",
       "    }\n",
       "</style>\n",
       "<table border=\"1\" class=\"dataframe\">\n",
       "  <thead>\n",
       "    <tr style=\"text-align: right;\">\n",
       "      <th></th>\n",
       "      <th>Query</th>\n",
       "      <th>Relative Search Index</th>\n",
       "    </tr>\n",
       "  </thead>\n",
       "  <tbody>\n",
       "    <tr>\n",
       "      <th>0</th>\n",
       "      <td>yeast infection pill</td>\n",
       "      <td>100</td>\n",
       "    </tr>\n",
       "    <tr>\n",
       "      <th>1</th>\n",
       "      <td>yeast infection</td>\n",
       "      <td>96</td>\n",
       "    </tr>\n",
       "    <tr>\n",
       "      <th>2</th>\n",
       "      <td>over the counter yeast infection pill</td>\n",
       "      <td>89</td>\n",
       "    </tr>\n",
       "    <tr>\n",
       "      <th>3</th>\n",
       "      <td>sleeping pill over the counter</td>\n",
       "      <td>66</td>\n",
       "    </tr>\n",
       "    <tr>\n",
       "      <th>4</th>\n",
       "      <td>viagra pill</td>\n",
       "      <td>63</td>\n",
       "    </tr>\n",
       "    <tr>\n",
       "      <th>5</th>\n",
       "      <td>water pill over the counter</td>\n",
       "      <td>59</td>\n",
       "    </tr>\n",
       "    <tr>\n",
       "      <th>6</th>\n",
       "      <td>viagra</td>\n",
       "      <td>56</td>\n",
       "    </tr>\n",
       "    <tr>\n",
       "      <th>7</th>\n",
       "      <td>best over the counter diet pill</td>\n",
       "      <td>43</td>\n",
       "    </tr>\n",
       "    <tr>\n",
       "      <th>8</th>\n",
       "      <td>abortion pill</td>\n",
       "      <td>30</td>\n",
       "    </tr>\n",
       "    <tr>\n",
       "      <th>9</th>\n",
       "      <td>best over the counter weight loss pill</td>\n",
       "      <td>30</td>\n",
       "    </tr>\n",
       "    <tr>\n",
       "      <th>10</th>\n",
       "      <td>best over the counter sleeping pill</td>\n",
       "      <td>13</td>\n",
       "    </tr>\n",
       "    <tr>\n",
       "      <th>11</th>\n",
       "      <td>pill identifier</td>\n",
       "      <td>10</td>\n",
       "    </tr>\n",
       "    <tr>\n",
       "      <th>12</th>\n",
       "      <td>strongest over the counter pain pill</td>\n",
       "      <td>3</td>\n",
       "    </tr>\n",
       "  </tbody>\n",
       "</table>\n",
       "</div>"
      ],
      "text/plain": [
       "                                     Query  Relative Search Index\n",
       "0                     yeast infection pill                    100\n",
       "1                          yeast infection                     96\n",
       "2    over the counter yeast infection pill                     89\n",
       "3           sleeping pill over the counter                     66\n",
       "4                              viagra pill                     63\n",
       "5              water pill over the counter                     59\n",
       "6                                   viagra                     56\n",
       "7          best over the counter diet pill                     43\n",
       "8                            abortion pill                     30\n",
       "9   best over the counter weight loss pill                     30\n",
       "10     best over the counter sleeping pill                     13\n",
       "11                         pill identifier                     10\n",
       "12    strongest over the counter pain pill                      3"
      ]
     },
     "execution_count": 8,
     "metadata": {},
     "output_type": "execute_result"
    }
   ],
   "source": [
    "ocp_rsi = pd.read_csv(\"ocp_rsi.csv\")\n",
    "ocp_rsi = ocp_rsi.drop(columns = [\"Unnamed: 0\"])\n",
    "ocp_rsi"
   ]
  },
  {
   "cell_type": "code",
   "execution_count": 9,
   "metadata": {},
   "outputs": [
    {
     "data": {
      "text/html": [
       "<div>\n",
       "<style scoped>\n",
       "    .dataframe tbody tr th:only-of-type {\n",
       "        vertical-align: middle;\n",
       "    }\n",
       "\n",
       "    .dataframe tbody tr th {\n",
       "        vertical-align: top;\n",
       "    }\n",
       "\n",
       "    .dataframe thead th {\n",
       "        text-align: right;\n",
       "    }\n",
       "</style>\n",
       "<table border=\"1\" class=\"dataframe\">\n",
       "  <thead>\n",
       "    <tr style=\"text-align: right;\">\n",
       "      <th></th>\n",
       "      <th>Queries</th>\n",
       "      <th>Relative Search Volume</th>\n",
       "    </tr>\n",
       "  </thead>\n",
       "  <tbody>\n",
       "    <tr>\n",
       "      <th>0</th>\n",
       "      <td>yeast infection</td>\n",
       "      <td>0.516836</td>\n",
       "    </tr>\n",
       "    <tr>\n",
       "      <th>1</th>\n",
       "      <td>viagra</td>\n",
       "      <td>0.227085</td>\n",
       "    </tr>\n",
       "    <tr>\n",
       "      <th>2</th>\n",
       "      <td>pill identifier</td>\n",
       "      <td>0.165109</td>\n",
       "    </tr>\n",
       "    <tr>\n",
       "      <th>3</th>\n",
       "      <td>abortion pill</td>\n",
       "      <td>0.061514</td>\n",
       "    </tr>\n",
       "    <tr>\n",
       "      <th>4</th>\n",
       "      <td>viagra pill</td>\n",
       "      <td>0.015291</td>\n",
       "    </tr>\n",
       "    <tr>\n",
       "      <th>5</th>\n",
       "      <td>yeast infection pill</td>\n",
       "      <td>0.010622</td>\n",
       "    </tr>\n",
       "    <tr>\n",
       "      <th>6</th>\n",
       "      <td>over the counter yeast infection pill</td>\n",
       "      <td>0.001026</td>\n",
       "    </tr>\n",
       "    <tr>\n",
       "      <th>7</th>\n",
       "      <td>water pill over the counter</td>\n",
       "      <td>0.000612</td>\n",
       "    </tr>\n",
       "    <tr>\n",
       "      <th>8</th>\n",
       "      <td>sleeping pill over the counter</td>\n",
       "      <td>0.000610</td>\n",
       "    </tr>\n",
       "    <tr>\n",
       "      <th>9</th>\n",
       "      <td>best over the counter diet pill</td>\n",
       "      <td>0.000524</td>\n",
       "    </tr>\n",
       "    <tr>\n",
       "      <th>10</th>\n",
       "      <td>best over the counter weight loss pill</td>\n",
       "      <td>0.000450</td>\n",
       "    </tr>\n",
       "    <tr>\n",
       "      <th>11</th>\n",
       "      <td>best over the counter sleeping pill</td>\n",
       "      <td>0.000231</td>\n",
       "    </tr>\n",
       "    <tr>\n",
       "      <th>12</th>\n",
       "      <td>strongest over the counter pain pill</td>\n",
       "      <td>0.000089</td>\n",
       "    </tr>\n",
       "  </tbody>\n",
       "</table>\n",
       "</div>"
      ],
      "text/plain": [
       "                                   Queries  Relative Search Volume\n",
       "0                          yeast infection                0.516836\n",
       "1                                   viagra                0.227085\n",
       "2                          pill identifier                0.165109\n",
       "3                            abortion pill                0.061514\n",
       "4                              viagra pill                0.015291\n",
       "5                     yeast infection pill                0.010622\n",
       "6    over the counter yeast infection pill                0.001026\n",
       "7              water pill over the counter                0.000612\n",
       "8           sleeping pill over the counter                0.000610\n",
       "9          best over the counter diet pill                0.000524\n",
       "10  best over the counter weight loss pill                0.000450\n",
       "11     best over the counter sleeping pill                0.000231\n",
       "12    strongest over the counter pain pill                0.000089"
      ]
     },
     "execution_count": 9,
     "metadata": {},
     "output_type": "execute_result"
    }
   ],
   "source": [
    "ocp = pd.read_csv(\"overthecounterpill_rsv.csv\")\n",
    "ocp = ocp.drop(columns = [\"Unnamed: 0\"])\n",
    "ocp"
   ]
  },
  {
   "cell_type": "markdown",
   "metadata": {},
   "source": [
    "##### <font color=\"blue\">Buy abortion pill online</font>"
   ]
  },
  {
   "cell_type": "code",
   "execution_count": 33,
   "metadata": {},
   "outputs": [
    {
     "data": {
      "text/html": [
       "<div>\n",
       "<style scoped>\n",
       "    .dataframe tbody tr th:only-of-type {\n",
       "        vertical-align: middle;\n",
       "    }\n",
       "\n",
       "    .dataframe tbody tr th {\n",
       "        vertical-align: top;\n",
       "    }\n",
       "\n",
       "    .dataframe thead th {\n",
       "        text-align: right;\n",
       "    }\n",
       "</style>\n",
       "<table border=\"1\" class=\"dataframe\">\n",
       "  <thead>\n",
       "    <tr style=\"text-align: right;\">\n",
       "      <th></th>\n",
       "      <th>Query</th>\n",
       "      <th>Relative Search Index</th>\n",
       "    </tr>\n",
       "  </thead>\n",
       "  <tbody>\n",
       "    <tr>\n",
       "      <th>0</th>\n",
       "      <td>buy abortion pill kit online</td>\n",
       "      <td>100</td>\n",
       "    </tr>\n",
       "    <tr>\n",
       "      <th>1</th>\n",
       "      <td>buy abortion pill online fast delivery</td>\n",
       "      <td>25</td>\n",
       "    </tr>\n",
       "  </tbody>\n",
       "</table>\n",
       "</div>"
      ],
      "text/plain": [
       "                                    Query  Relative Search Index\n",
       "0            buy abortion pill kit online                    100\n",
       "1  buy abortion pill online fast delivery                     25"
      ]
     },
     "execution_count": 33,
     "metadata": {},
     "output_type": "execute_result"
    }
   ],
   "source": [
    "bapo_rsi = pd.read_csv('bapo_rsi.csv')\n",
    "bapo_rsi = bapo_rsi.drop(columns = [\"Unnamed: 0\"])\n",
    "bapo_rsi"
   ]
  },
  {
   "cell_type": "code",
   "execution_count": 31,
   "metadata": {},
   "outputs": [
    {
     "data": {
      "text/html": [
       "<div>\n",
       "<style scoped>\n",
       "    .dataframe tbody tr th:only-of-type {\n",
       "        vertical-align: middle;\n",
       "    }\n",
       "\n",
       "    .dataframe tbody tr th {\n",
       "        vertical-align: top;\n",
       "    }\n",
       "\n",
       "    .dataframe thead th {\n",
       "        text-align: right;\n",
       "    }\n",
       "</style>\n",
       "<table border=\"1\" class=\"dataframe\">\n",
       "  <thead>\n",
       "    <tr style=\"text-align: right;\">\n",
       "      <th></th>\n",
       "      <th>Queries</th>\n",
       "      <th>Relative Search Volume</th>\n",
       "    </tr>\n",
       "  </thead>\n",
       "  <tbody>\n",
       "    <tr>\n",
       "      <th>0</th>\n",
       "      <td>buy abortion pill kit online</td>\n",
       "      <td>0.735886</td>\n",
       "    </tr>\n",
       "    <tr>\n",
       "      <th>1</th>\n",
       "      <td>buy abortion pill online fast delivery</td>\n",
       "      <td>0.264114</td>\n",
       "    </tr>\n",
       "  </tbody>\n",
       "</table>\n",
       "</div>"
      ],
      "text/plain": [
       "                                  Queries  Relative Search Volume\n",
       "0            buy abortion pill kit online                0.735886\n",
       "1  buy abortion pill online fast delivery                0.264114"
      ]
     },
     "execution_count": 31,
     "metadata": {},
     "output_type": "execute_result"
    }
   ],
   "source": [
    "bapo = pd.read_csv(\"buyabortionpillonline_rsv.csv\")\n",
    "bapo = bapo.drop(columns = [\"Unnamed: 0\"])\n",
    "bapo"
   ]
  },
  {
   "cell_type": "markdown",
   "metadata": {},
   "source": [
    "##### <font color=\"blue\">Home abortion</font>"
   ]
  },
  {
   "cell_type": "code",
   "execution_count": 35,
   "metadata": {},
   "outputs": [
    {
     "data": {
      "text/html": [
       "<div>\n",
       "<style scoped>\n",
       "    .dataframe tbody tr th:only-of-type {\n",
       "        vertical-align: middle;\n",
       "    }\n",
       "\n",
       "    .dataframe tbody tr th {\n",
       "        vertical-align: top;\n",
       "    }\n",
       "\n",
       "    .dataframe thead th {\n",
       "        text-align: right;\n",
       "    }\n",
       "</style>\n",
       "<table border=\"1\" class=\"dataframe\">\n",
       "  <thead>\n",
       "    <tr style=\"text-align: right;\">\n",
       "      <th></th>\n",
       "      <th>Query</th>\n",
       "      <th>Relative Search Index</th>\n",
       "    </tr>\n",
       "  </thead>\n",
       "  <tbody>\n",
       "    <tr>\n",
       "      <th>0</th>\n",
       "      <td>at home abortion</td>\n",
       "      <td>100</td>\n",
       "    </tr>\n",
       "    <tr>\n",
       "      <th>1</th>\n",
       "      <td>abortion pill</td>\n",
       "      <td>37</td>\n",
       "    </tr>\n",
       "    <tr>\n",
       "      <th>2</th>\n",
       "      <td>how to have an abortion at home</td>\n",
       "      <td>12</td>\n",
       "    </tr>\n",
       "    <tr>\n",
       "      <th>3</th>\n",
       "      <td>how to have a home abortion</td>\n",
       "      <td>12</td>\n",
       "    </tr>\n",
       "    <tr>\n",
       "      <th>4</th>\n",
       "      <td>home remedies for abortion</td>\n",
       "      <td>11</td>\n",
       "    </tr>\n",
       "    <tr>\n",
       "      <th>5</th>\n",
       "      <td>abortion clinic</td>\n",
       "      <td>9</td>\n",
       "    </tr>\n",
       "    <tr>\n",
       "      <th>6</th>\n",
       "      <td>plan b</td>\n",
       "      <td>8</td>\n",
       "    </tr>\n",
       "    <tr>\n",
       "      <th>7</th>\n",
       "      <td>how to do an at home abortion</td>\n",
       "      <td>7</td>\n",
       "    </tr>\n",
       "    <tr>\n",
       "      <th>8</th>\n",
       "      <td>home abortion methods</td>\n",
       "      <td>4</td>\n",
       "    </tr>\n",
       "  </tbody>\n",
       "</table>\n",
       "</div>"
      ],
      "text/plain": [
       "                             Query  Relative Search Index\n",
       "0                 at home abortion                    100\n",
       "1                    abortion pill                     37\n",
       "2  how to have an abortion at home                     12\n",
       "3      how to have a home abortion                     12\n",
       "4       home remedies for abortion                     11\n",
       "5                  abortion clinic                      9\n",
       "6                           plan b                      8\n",
       "7    how to do an at home abortion                      7\n",
       "8            home abortion methods                      4"
      ]
     },
     "execution_count": 35,
     "metadata": {},
     "output_type": "execute_result"
    }
   ],
   "source": [
    "ha_rsi = pd.read_csv('ocp_ha.csv')\n",
    "ha_rsi = ha_rsi.drop(columns = [\"Unnamed: 0\"])\n",
    "ha_rsi"
   ]
  },
  {
   "cell_type": "code",
   "execution_count": 36,
   "metadata": {},
   "outputs": [
    {
     "data": {
      "text/html": [
       "<div>\n",
       "<style scoped>\n",
       "    .dataframe tbody tr th:only-of-type {\n",
       "        vertical-align: middle;\n",
       "    }\n",
       "\n",
       "    .dataframe tbody tr th {\n",
       "        vertical-align: top;\n",
       "    }\n",
       "\n",
       "    .dataframe thead th {\n",
       "        text-align: right;\n",
       "    }\n",
       "</style>\n",
       "<table border=\"1\" class=\"dataframe\">\n",
       "  <thead>\n",
       "    <tr style=\"text-align: right;\">\n",
       "      <th></th>\n",
       "      <th>Queries</th>\n",
       "      <th>Relative Search Volume</th>\n",
       "    </tr>\n",
       "  </thead>\n",
       "  <tbody>\n",
       "    <tr>\n",
       "      <th>0</th>\n",
       "      <td>plan b</td>\n",
       "      <td>0.753967</td>\n",
       "    </tr>\n",
       "    <tr>\n",
       "      <th>1</th>\n",
       "      <td>abortion pill</td>\n",
       "      <td>0.139002</td>\n",
       "    </tr>\n",
       "    <tr>\n",
       "      <th>2</th>\n",
       "      <td>abortion clinic</td>\n",
       "      <td>0.095890</td>\n",
       "    </tr>\n",
       "    <tr>\n",
       "      <th>3</th>\n",
       "      <td>at home abortion</td>\n",
       "      <td>0.006744</td>\n",
       "    </tr>\n",
       "    <tr>\n",
       "      <th>4</th>\n",
       "      <td>how to have a home abortion</td>\n",
       "      <td>0.001224</td>\n",
       "    </tr>\n",
       "    <tr>\n",
       "      <th>5</th>\n",
       "      <td>home remedies for abortion</td>\n",
       "      <td>0.001166</td>\n",
       "    </tr>\n",
       "    <tr>\n",
       "      <th>6</th>\n",
       "      <td>how to have an abortion at home</td>\n",
       "      <td>0.000879</td>\n",
       "    </tr>\n",
       "    <tr>\n",
       "      <th>7</th>\n",
       "      <td>how to do an at home abortion</td>\n",
       "      <td>0.000615</td>\n",
       "    </tr>\n",
       "    <tr>\n",
       "      <th>8</th>\n",
       "      <td>home abortion methods</td>\n",
       "      <td>0.000514</td>\n",
       "    </tr>\n",
       "  </tbody>\n",
       "</table>\n",
       "</div>"
      ],
      "text/plain": [
       "                           Queries  Relative Search Volume\n",
       "0                           plan b                0.753967\n",
       "1                    abortion pill                0.139002\n",
       "2                  abortion clinic                0.095890\n",
       "3                 at home abortion                0.006744\n",
       "4      how to have a home abortion                0.001224\n",
       "5       home remedies for abortion                0.001166\n",
       "6  how to have an abortion at home                0.000879\n",
       "7    how to do an at home abortion                0.000615\n",
       "8            home abortion methods                0.000514"
      ]
     },
     "execution_count": 36,
     "metadata": {},
     "output_type": "execute_result"
    }
   ],
   "source": [
    "ha = pd.read_csv(\"homeabortion_rsv.csv\")\n",
    "ha = ha.drop(columns = [\"Unnamed: 0\"])\n",
    "ha"
   ]
  },
  {
   "cell_type": "markdown",
   "metadata": {},
   "source": [
    "### Appendix: <a id='section-7'>"
   ]
  },
  {
   "cell_type": "markdown",
   "metadata": {},
   "source": [
    "3. self-care abortion\n",
    "    <img src=\"selfcareabortion_googletrends.png\" width=\"100%\">\n",
    "    \n",
    "    \n",
    "\n",
    "<img src=\"saa_relatedqueries.png\" width=\"100%\">"
   ]
  },
  {
   "cell_type": "markdown",
   "metadata": {},
   "source": [
    "4. self-induced abortion\n",
    "\n",
    "<img src=\"selfinducedabortion_googletrends.png\n",
    "\" width=\"100%\">"
   ]
  },
  {
   "cell_type": "markdown",
   "metadata": {},
   "source": [
    "5. plan c pill\n",
    "\n",
    "<img src=\"plancpill_relatedqueries_gt.png\n",
    "\" width=\"100%\">"
   ]
  },
  {
   "cell_type": "markdown",
   "metadata": {},
   "source": [
    "### Notes: <a id='section-8'>"
   ]
  },
  {
   "cell_type": "markdown",
   "metadata": {},
   "source": [
    "- If initial search terms are too niche, Run_Simulation_Code will have a NoneType error when pulling data from the API because there isn’t enough information for the given region/given search term\n",
    "- The day specification for start and end date is volatile, it is important to keep these values the same\n",
    "- The Google Trends Site, Google Trends API, and Google Health Trends API utilize random samples for each query you input, you are not guaranteed to get the same result even if you search for the same term and date period multiple times\n",
    "\n",
    "\n",
    "\n"
   ]
  },
  {
   "cell_type": "markdown",
   "metadata": {},
   "source": [
    "### Next Steps: <a id='section-9'>"
   ]
  },
  {
   "cell_type": "markdown",
   "metadata": {},
   "source": [
    "1. Look into the top websites that people go to when searching for \"over the counter pill\", \"buy abortion pill online\", \"home abortion\", and \"plan c pill\".\n",
    "\n",
    "2. Conduct a trend analysis that incorporates December 2020 and January 2021 to see how interest in the 4 terms change because from the data we observed it appears that December is a pivotal point for abortion searches."
   ]
  }
 ],
 "metadata": {
  "kernelspec": {
   "display_name": "Python 3",
   "language": "python",
   "name": "python3"
  },
  "language_info": {
   "codemirror_mode": {
    "name": "ipython",
    "version": 3
   },
   "file_extension": ".py",
   "mimetype": "text/x-python",
   "name": "python",
   "nbconvert_exporter": "python",
   "pygments_lexer": "ipython3",
   "version": "3.8.6"
  }
 },
 "nbformat": 4,
 "nbformat_minor": 4
}
